{
 "cells": [
  {
   "cell_type": "markdown",
   "metadata": {},
   "source": [
    "# Are the Utah Jazz True Title Contenders? #\n",
    "\n",
    "![Jazz logo](Pics/Jazz-logo-circle.png)\n",
    "\n",
    "**Henry Crandall & Thomass Yassmin**\n",
    "\n",
    "<br>\n",
    "\n",
    "*Note: all data and files we created can be found on Github (https://github.com/hencran/4100-Utah-Jazz-Project)\n",
    "and a screen recording can be found here(https://youtu.be/IaAeHqWI0zY).\n",
    "### Let's see what the stats have to say ###"
   ]
  },
  {
   "cell_type": "markdown",
   "metadata": {},
   "source": [
    "***\n",
    "### Methods ###\n",
    "##### Data Acquisition #####\n",
    "We gathered NBA statistical data from a variety of sources. Data for our team analysis came from **stats.nba.com, and basketball-reference.com.** Acquiring the data proved to be a challenging and time consuming task, but we anticipated this. For two of our data sources (kaggle and NBA.com), acquiring the data was trivial. For basketball reference, we had to build a lengthy scraper. In the end, we succesffuly gathered **20 seasons worth of NBA team data**.\n",
    "\n",
    "<br>\n",
    "\n",
    "##### Data Cleaning #####\n",
    "We did not anticipate the need to clean our dataset, but encountered several nuances that required adjustments. For the team dataset, we **updated all franchise name/location changes to their 2021 conventions**. We also added several categorical columns to reflect playoff performance based on publicly available records.\n",
    "\n",
    "<br>\n",
    "\n",
    "##### Analysis #####\n",
    "We combined **classification** and **regression** analyses to make predictions about the 2021 Utah Jazz's playoff performance. Our regression analyses helped us to find key traits of championship teams. We used correaltion matrices and heat maps to try and narrow down the statistics that are most related to championships. With that understanding, we trained several **SVM models** to predict playoff results based on standard NBA statistics. Some models had a high level of accuracy, while others proved to be quite flawed. "
   ]
  },
  {
   "cell_type": "markdown",
   "metadata": {},
   "source": [
    "***\n",
    "### Data ###\n",
    "Our cleaned team datatable looks like this (note that all categorical stats are zero as playoffs have not happened for the current season):\n",
    "![Cleaned team data table screenshot](Pics/Cleaned-team-df.png)\n",
    "\n",
    "\n"
   ]
  },
  {
   "cell_type": "markdown",
   "metadata": {},
   "source": [
    "***\n",
    "### Results ###\n",
    "\n",
    "\n",
    "##### What are the key qualities of NBA Champions? #####\n",
    "Looking at the top row of the heat map below, it is clear that **none of the statistics have a very strong positive or negative correlation with winning championships**. At best, we can reach only trivial conclusions: winning games has a positive correlation with winning championships as does making a finals appearance. Although, neither of these conclusions are special, one meaningful insight we can make is that **Blocks Allowed** exhibits the largest negative corelation with winning championships.\n",
    "\n",
    "Adding in another wrinkle, **the correlations between any statistics across the board tend to decrease, the farther into the playoffs you go**. For example, consider +/-. This stat has a very strong correlation with winning and making it to the first round of the playoffs (based on the color, I would guess a correlation near 1). But as you consider the correlation between the second round of the playoffs and +/-, the value drops significantly. The pattern continues all the way up to the finals where the correlation between +/- and winning a championship is around 0.25. \n",
    "\n",
    "This could possibly be explained by a lack of data on finals/championship teams. In the past 20 years, only 20 teams have won a championship. Or perhaps, this suggests that stats alone have a hard time predicting championships. Chemistry, previous champion winners, mental toughness or a variety of other factors could have difficult-to-quantify influences on winning championships. Applying this to our results, we can say that our **uncertainty grows considerably as we try to make predictions about deep playoff runs**. In the case of the Utah Jazz, we feel more confident in the results suggesting the outcomes of the first two rounds of the playoffs than the results about the finals.\n",
    "\n",
    "![heat map of all stats](Pics/heat-map-champions.png)\n",
    "\n",
    "\n",
    "\n",
    "\n",
    "##### How do the Jazz's stats compare to the median stats of NBA Champions? ######\n",
    "\n",
    "Regardless of correlations and the heat map, we can get an overall idea of the caliber of the Utah Jazz by comparing their season stats so far with the median values of championship winners over the past 20 years. The table below shows the median stats for all teams over the last 20 years and median stats for champions from the last 20 years. **Any stat where the Jazz outperform the champs's corresponding median stat is highlighted green**.\n",
    "As can be visually seen, the jazz performance so far, is better than the median stats of champions in almost every statsitcal category. Notably, the Jazz are outperforming the median champs's stats in PTS, 3PM, 3P%, REB, and +/- **by considerable margins**.\n",
    "\n",
    "![dataframe of jazz and champs comparison](Pics/Champs-Utah-Comparison.png)\n",
    "\n",
    "That the jazz are performing so well in these categories is a great sign. Many of these same values have a stron linear relationship with winning. See the scatter matrix below for additional relationships between various stats. Again, even though we can say that the Jazz's stats indicate that they are playing a style of basketball that should lead to (and has led to) a lot of wins, we can say less about their playoff performance. \n",
    "\n",
    "![Scatter Matrix](Pics/Team-Scatter-Matrix.png)\n",
    "\n",
    "##### What do SVM models have to say? #####\n",
    "We trained several SVM models to predict the Utah Jazz's playoff results. **We utilized cross validation with a test size of 0.35 to find an optimal C value**. In total, we trained 6 SVM models, each with a different classification goal. We started by training one SVM model to classify a team's playoff performance from did not make playoffs to won championshimps. We noticed that the overall accuracy was quite good, but the numbers were skewed by the number of teams that either do not make the playoffs or only make it to the first round of the playoffs. We then made several SVM models to predict a binary outcome for each round of the playoffs: the team made it that far or not. Again, **for the early rounds of the playoffs, we achieved high accuracy (~0.9), but that grossly tailed off for the alter rounds of the playoffs**. Plots of SVM accuracies are listed below:\n",
    "\n",
    "![SVM All](Pics/SVM-All-Acc.png)\n",
    "![SVM playoff](Pics/SVM-Playoff-Acc.png)\n",
    "![SVM conf semis](Pics/SVM-Semi-Acc.png)\n",
    "![SVM conf finals](Pics/SVM-Conf-Final-Acc.png)\n",
    "\n",
    "This indicates to us, that we can place a fair bit of trust in the results of the SVM models for the first rounds, but not the later rounds. After training the models, we used them to predict the Utah Jazz's 2020-21 playoff outcomes based on their stats so far. The results are below.\n",
    "\n",
    "![SVM Predictions](Pics/Df-Results.png)\n"
   ]
  },
  {
   "cell_type": "markdown",
   "metadata": {},
   "source": [
    "***\n",
    "### Ethical Considerations ###\n",
    "The only ethics involved with this project are the very realy possibility of jinxing the Jazz or making/breaking Jazz fan's days. "
   ]
  },
  {
   "cell_type": "markdown",
   "metadata": {},
   "source": [
    "### Conclusions ###\n",
    "\n",
    "**Both SVMs agree that the Jazz will advance out of the first round of the playoffs**, making at least as far as the conference semifinals. So, Jazz fans should expect a little bit of this:\n",
    "![Playoff Don](Pics/Playoff-Don.jpeg)\n",
    "\n",
    "<br> \n",
    "\n",
    "We cannot make any garuntees about winning a ring this year, so I wouldn't expect anything as grand as this:\n",
    "<br>\n",
    "![Champ celebrash](Pics/Championship-Celebration.jpg)\n",
    "\n",
    "Beyond that, we will let the future reveal. **Their stastical performance this year also suggests that they are excelling in a lot of categories that lead to winning**. So, Utah Jazz fans have good reason to be excited about this years playoff race. Although, after the second round, we can make no garuntees, **we feel confident in stating that the Utah Jazz are most definitely title contenders!** \n",
    "\n"
   ]
  }
 ],
 "metadata": {
  "kernelspec": {
   "display_name": "Python 3",
   "language": "python",
   "name": "python3"
  },
  "language_info": {
   "codemirror_mode": {
    "name": "ipython",
    "version": 3
   },
   "file_extension": ".py",
   "mimetype": "text/x-python",
   "name": "python",
   "nbconvert_exporter": "python",
   "pygments_lexer": "ipython3",
   "version": "3.8.5"
  }
 },
 "nbformat": 4,
 "nbformat_minor": 4
}
