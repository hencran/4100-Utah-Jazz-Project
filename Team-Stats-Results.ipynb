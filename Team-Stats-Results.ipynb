{
 "cells": [
  {
   "cell_type": "markdown",
   "metadata": {},
   "source": [
    "# Are the Utah Jazz True Title Contenders? #\n",
    "\n",
    "![Jazz logo](Pics/Jazz-logo-circle.png)\n",
    "\n",
    "### Let's see what the stats have to say ###"
   ]
  },
  {
   "cell_type": "markdown",
   "metadata": {},
   "source": [
    "***\n",
    "### Methods ###\n",
    "##### Data Acquisition #####\n",
    "We gathered NBA statistical data from a variety of sources. Data for our team analysis came from **stats.nba.com, and basketball-reference.com.** Acquiring the data proved to be a challenging and time consuming task, but we anticipated this. For two of our data sources (kaggle and NBA.com), acquiring the data was trivial. For basketball reference, we had to build a lengthy scraper. In the end, we succesffuly gathered **20 seasons worth of NBA team data**.\n",
    "\n",
    "<br>\n",
    "\n",
    "##### Data Cleaning #####\n",
    "We did not anticipate the need to clean our dataset, but encountered several nuances that required adjustments. For the team dataset, we **updated all franchise name/location changes to their 2021 conventions**. We also added several categorical columns to reflect playoff performance based on publicly available records.\n",
    "\n",
    "<br>\n",
    "\n",
    "##### Analysis #####\n",
    "We combined **classification** and **regression** analyses to make predictions about the 2021 Utah Jazz's playoff performance. Our regression analyses helped us to find key traits of championship teams. We used correaltion matrices and heat maps to try and narrow down the statistics that are most related to championships. With that understanding, we trained several **SVM models** to predict playoff results based on standard NBA statistics. Some models had a high level of accuracy, while others proved to be quite flawed. "
   ]
  },
  {
   "cell_type": "markdown",
   "metadata": {},
   "source": [
    "***\n",
    "### Data ###\n",
    "Our cleaned team datatable looks like this (note that all categorical stats are zero as playoffs have not happened for the current season):\n",
    "![Cleaned team data table screenshot](Pics/Cleaned-team-df.png)\n",
    "\n",
    "\n"
   ]
  },
  {
   "cell_type": "markdown",
   "metadata": {},
   "source": [
    "***\n",
    "### Results ###\n",
    "\n",
    "\n",
    "##### What are the key qualities of NBA Champions? #####\n",
    "Looking at the top row of the heat map below, it is clear that **none of the statistics have a very strong positive or negative correlation with winning championships**. At best, we can reach only trivial conclusions: winning games has a positive correlation with winning championships as does making a finals appearance. Although, neither of these conclusions are special. One meaningful insight we can make is that **Blocks Allowed** exhibits the largest negative corelation with winning championships.\n",
    "\n",
    "![heat map of all stats](Pics/heat-map-champions.png)"
   ]
  },
  {
   "cell_type": "code",
   "execution_count": null,
   "metadata": {},
   "outputs": [],
   "source": []
  }
 ],
 "metadata": {
  "kernelspec": {
   "display_name": "Python 3",
   "language": "python",
   "name": "python3"
  },
  "language_info": {
   "codemirror_mode": {
    "name": "ipython",
    "version": 3
   },
   "file_extension": ".py",
   "mimetype": "text/x-python",
   "name": "python",
   "nbconvert_exporter": "python",
   "pygments_lexer": "ipython3",
   "version": "3.8.5"
  }
 },
 "nbformat": 4,
 "nbformat_minor": 4
}
