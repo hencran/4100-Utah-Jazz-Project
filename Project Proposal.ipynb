{
 "cells": [
  {
   "cell_type": "markdown",
   "metadata": {},
   "source": [
    "# **Proving Shaq Wrong (or Right?)**\n",
    "\n",
    "![image of Donny Dunking on Shaq](Shaq-dunked-on.png)\n",
    "\n",
    "## Henry Crandall & Thomas Yassmin\n",
    "emails: henry.crandall@gmail.com, \n",
    "UID: u0960202, \n"
   ]
  },
  {
   "cell_type": "markdown",
   "metadata": {},
   "source": [
    "***\n",
    "Background and Motivation. Discuss your motivations and reasons for choosing this project, especially any background or research interests that may have influenced your decision.\n",
    "\n",
    "The Utah Jazz have had a sensational year so far, holding the best record in the NBA. They have also been the subject of severe criticism in the media:\n",
    "* Shaq's awkward convo with Donnovan Mitchell [Shaq saying you aren't good enough](https://www.youtube.com/watch?v=GFmk7kzDbiA)\n",
    "* All star drama [Lebron James saying we never played as jazz](https://www.youtube.com/watch?v=p6KicnmzhYg)\n",
    "* Questionable 76er's officiating [Rudy and Donny fined for comments](https://www.si.com/nba/jazz/news/mitchell-gobert-fined-for-public-criticism-of-officiating)\n",
    "\n",
    "This has led Jazz fans to want to \"prove all the haters wrong\". **The motivation for this project is to research if there is any statistical proof that 1) Donvoan Mitchell is on track to be a super star and 2) the Utah Jazz are true title contenders**\n",
    "\n",
    "\n",
    "***\n"
   ]
  },
  {
   "cell_type": "markdown",
   "metadata": {},
   "source": [
    "Project Objectives. Provide the primary questions you are trying to answer in your project. What would you like to learn and accomplish? List the benefits."
   ]
  },
  {
   "cell_type": "markdown",
   "metadata": {},
   "source": [
    "Data. From where and how are you collecting your data? If appropriate, provide a link to your data sources."
   ]
  },
  {
   "cell_type": "markdown",
   "metadata": {},
   "source": [
    "Ethical considerations. Complete a stakeholder analysis for your project."
   ]
  },
  {
   "cell_type": "markdown",
   "metadata": {},
   "source": [
    "Data Processing. Do you expect to do substantial data cleanup or data extraction? What quantities do you plan to derive from your data? How will data processing be implemented?"
   ]
  },
  {
   "cell_type": "markdown",
   "metadata": {},
   "source": [
    "Exploratory Analysis. Which methods and visualizations are you planning to use to look at your dataset?"
   ]
  },
  {
   "cell_type": "markdown",
   "metadata": {},
   "source": [
    "Analysis Methodology. How are you planning to analyze your data?"
   ]
  },
  {
   "cell_type": "markdown",
   "metadata": {},
   "source": [
    "Project Schedule. Make sure that you plan your work so that you can avoid a big rush right before the final project deadline, and delegate different modules and responsibilities among your team members. Write this in terms of weekly deadlines."
   ]
  }
 ],
 "metadata": {
  "kernelspec": {
   "display_name": "Python 3",
   "language": "python",
   "name": "python3"
  },
  "language_info": {
   "codemirror_mode": {
    "name": "ipython",
    "version": 3
   },
   "file_extension": ".py",
   "mimetype": "text/x-python",
   "name": "python",
   "nbconvert_exporter": "python",
   "pygments_lexer": "ipython3",
   "version": "3.8.5"
  }
 },
 "nbformat": 4,
 "nbformat_minor": 4
}
