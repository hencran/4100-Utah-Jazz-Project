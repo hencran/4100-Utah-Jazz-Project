{
 "cells": [
  {
   "cell_type": "markdown",
   "metadata": {},
   "source": [
    "# **Proving Shaq Wrong (or Right?)**\n",
    "\n",
    "![image of Donny Dunking on Shaq](Pics/Shaq-dunked-on.png)\n",
    "\n",
    "## Henry Crandall & Thomas Yassmin\n",
    "emails: henry.crandall@gmail.com, \n",
    "<br>\n",
    "UID: u0960202, \n"
   ]
  },
  {
   "cell_type": "markdown",
   "metadata": {},
   "source": [
    "***\n",
    "### Background and Motivation ### \n",
    "\n",
    "![NBA Standings](Pics/NBA-Standings-03-24-21.png)\n",
    "\n",
    "The Utah Jazz have had a sensational year so far, holding the best record in the NBA. Naturally, as a small market team lacking any Top 10 players, they have also been the subject of severe criticism in the media:\n",
    "* Shaq's awkward convo with Donnovan Mitchell [NBA on TNT post game interview between Shaw and Spida](https://www.youtube.com/watch?v=GFmk7kzDbiA)\n",
    "* All star drama [Lebron James trying to justify picking Jazz Stars last in All-Star Draft](https://www.youtube.com/watch?v=p6KicnmzhYg)\n",
    "* Questionable 76er's officiating [Rudy and Donny fined for comments](https://www.si.com/nba/jazz/news/mitchell-gobert-fined-for-public-criticism-of-officiating)\n",
    "\n",
    "This has led Jazz fans to want to \"prove all the haters wrong\". As personal diehard Jazz fans, and basketball lovers, this project is a natural fit for us. \n",
    "\n",
    "***\n"
   ]
  },
  {
   "cell_type": "markdown",
   "metadata": {},
   "source": [
    "### Project Objectives ### \n",
    "Provide the primary questions you are trying to answer in your project. What would you like to learn and accomplish? List the benefits.\n",
    "\n",
    "#### Primary Questions ####\n",
    "\n",
    "The motivation for this project is to research if there is any statistical proof that\n",
    "* 1) Donvoan Mitchell is on track to be a super star\n",
    "* 2) the Utah Jazz are true title contenders\n",
    "\n",
    "[Jazz logo](Pics/Jazz-logo-circle.png)\n",
    "\n",
    "#### Benefits ####\n",
    "We want to gain more experience performing web scraping, data analysis, data cleaning, and regression/classification tools. This project will be an awesome learning opportunity for us because it will let us get our hands dirty practicing the concepts we talk about in class on a subject that we are personally invested in.\n"
   ]
  },
  {
   "cell_type": "markdown",
   "metadata": {},
   "source": [
    "### Data ###\n",
    "From where and how are you collecting your data? If appropriate, provide a link to your data sources.\n",
    "\n",
    "#### Where ####\n",
    "\n",
    "<u> Stats for Donovan Mitchell's career: </u>\n",
    "* https://www.basketball-reference.com/players/m/mitchdo01.html\n",
    "* https://www.espn.com/nba/player/stats/_/id/3908809/donovan-mitchell\n",
    "\n",
    "<u> Stats for the Utah Jazz: </u>\n",
    "* https://www.espn.com/nba/team/stats/_/name/utah\n",
    "* https://www.basketball-reference.com/teams/UTA/2021.html\n",
    "\n",
    "<u> General team stats </u>\n",
    "\n",
    "<u> General player stats </u>\n",
    "\n",
    "\n",
    "#### How #### \n",
    "\n",
    "We will scrape this data from the website (have reached out about receiving written peremissino in accoradance with their acceptable use policy).\n",
    "\n",
    "    \n"
   ]
  },
  {
   "cell_type": "markdown",
   "metadata": {},
   "source": [
    "Ethical considerations. Complete a stakeholder analysis for your project."
   ]
  },
  {
   "cell_type": "markdown",
   "metadata": {},
   "source": [
    "Data Processing. Do you expect to do substantial data cleanup or data extraction? What quantities do you plan to derive from your data? How will data processing be implemented?"
   ]
  },
  {
   "cell_type": "markdown",
   "metadata": {},
   "source": [
    "Exploratory Analysis. Which methods and visualizations are you planning to use to look at your dataset?"
   ]
  },
  {
   "cell_type": "markdown",
   "metadata": {},
   "source": [
    "Analysis Methodology. How are you planning to analyze your data?"
   ]
  },
  {
   "cell_type": "markdown",
   "metadata": {},
   "source": [
    "Project Schedule. Make sure that you plan your work so that you can avoid a big rush right before the final project deadline, and delegate different modules and responsibilities among your team members. Write this in terms of weekly deadlines."
   ]
  }
 ],
 "metadata": {
  "kernelspec": {
   "display_name": "Python 3",
   "language": "python",
   "name": "python3"
  },
  "language_info": {
   "codemirror_mode": {
    "name": "ipython",
    "version": 3
   },
   "file_extension": ".py",
   "mimetype": "text/x-python",
   "name": "python",
   "nbconvert_exporter": "python",
   "pygments_lexer": "ipython3",
   "version": "3.8.5"
  }
 },
 "nbformat": 4,
 "nbformat_minor": 4
}
