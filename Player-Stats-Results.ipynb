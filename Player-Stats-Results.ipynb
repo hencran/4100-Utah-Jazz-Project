{
 "cells": [
  {
   "cell_type": "markdown",
   "metadata": {},
   "source": [
    "# Is Donovan Mitchell on Track to be a Superstar? #\n",
    "\n",
    "![Donnovan Mitchell Pic](Pics/Shaq-dunked-on.png)\n",
    "\n",
    "### Let's see what the stats have to say ###"
   ]
  },
  {
   "cell_type": "markdown",
   "metadata": {},
   "source": [
    "***\n",
    "### Methods ###\n",
    "##### Data Acquisition #####\n",
    "We gathered NBA statistical data from a variety of sources. Data for our analyses came from **Kaggle and basketball-reference.com.** Acquiring the data proved to be a challenging and time consuming task, but we anticipated this. For kaggle, acquiring the data was trivial. For basketball reference, we had to build a lengthy scraper. In the end, we succesffuly gathered **40 years worth of NBA player data**. \n",
    "\n",
    "<br>\n",
    "\n",
    "##### Data Cleaning #####\n",
    "We did not anticipate the need to clean our dataset, but encountered several nuances that required adjustments. For the player dataset, we **dropped data before 1979** when all modern NBA stats began begin tracked (3-pt, GS, 3-pt%, etc.). Additionally, we **dropped any superfluous rows** of the data table indicating years players played for a league other than the NBA or broke down stats by team in the case of players getting traded midway through a season.\n",
    "\n",
    "<br>\n",
    "\n",
    "##### Analysis #####\n",
    "We combined **classification** and **regression** analyses to make predictions about Donovan Mitchell's 2021 season outcomes. Our regression analyses helped us to find key traits of MVPs/All NBA players (our definition of superstars). We used correaltion matrices and heat maps to try and narrow down the statistics that are most related to superstars. With that understanding, we trained several **SVM models** to predict post season results based on standard NBA statistics. Some models had a high level of accuracy, while others proved to be quite flawed. "
   ]
  },
  {
   "cell_type": "markdown",
   "metadata": {},
   "source": [
    "***\n",
    "### Data ###\n",
    "Our cleaned player datatable looks like this:\n",
    "![Cleaned player df](Pics/Cleaned-player-df.png)"
   ]
  },
  {
   "cell_type": "markdown",
   "metadata": {},
   "source": [
    "### Results\n",
    "##### Visual Analysis #####\n",
    "From the visual techniques it is slightly easier to recognises cetain oatterns and correlaitins between players and individual game statistics. Furthermore, looking at the numerical analysis provided below, you can see these correlations don't neccessarily have much weight to them (although we'll get into that later).\n",
    "\n",
    "From the heatmap, there are some strong correlations between stats such as FGA (Field goals attempted) and PTS (Points) as well as MP (minutes played) and PTS. Now these are expected, even if you don't know the game of basketball.\n",
    "When looking at what statistics are relevant to a particular player being an All-Star/All-NBA or potentially MVP, it is hard to find. This is due to what we think most likely is a result of having such a small pool of players selected out of a large number of players in the league. Adding to this, there are mutliple players that could average very similiar statistics, but could be far off from being a potential All Star/All NBA. There are other factors to play in this that are unmeausurable, or atleast not within the scope of stats that are provided."
   ]
  },
  {
   "cell_type": "code",
   "execution_count": null,
   "metadata": {},
   "outputs": [],
   "source": []
  }
 ],
 "metadata": {
  "kernelspec": {
   "display_name": "Python 3",
   "language": "python",
   "name": "python3"
  },
  "language_info": {
   "codemirror_mode": {
    "name": "ipython",
    "version": 3
   },
   "file_extension": ".py",
   "mimetype": "text/x-python",
   "name": "python",
   "nbconvert_exporter": "python",
   "pygments_lexer": "ipython3",
   "version": "3.8.5"
  }
 },
 "nbformat": 4,
 "nbformat_minor": 4
}
