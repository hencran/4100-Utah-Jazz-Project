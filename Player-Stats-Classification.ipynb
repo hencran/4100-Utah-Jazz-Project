{
 "cells": [
  {
   "cell_type": "markdown",
   "metadata": {},
   "source": [
    "# SVM classification of Donovan Mitchell #\n",
    "Let's see where a model classifies donovan: All-star, All-NBA (1, 2, or 3), or MVP"
   ]
  },
  {
   "cell_type": "code",
   "execution_count": 1,
   "metadata": {},
   "outputs": [],
   "source": [
    "# imports and setup\n",
    "import scipy as sc\n",
    "import pandas as pd\n",
    "from pandas.plotting import scatter_matrix\n",
    "import numpy as np\n",
    "import statsmodels.formula.api as sm\n",
    "from sklearn import linear_model\n",
    "from sklearn import svm, metrics\n",
    "# from sklearn.neighbors import KNeighborsClassifier\n",
    "from sklearn.model_selection import train_test_split, cross_val_score\n",
    "import matplotlib.pyplot as plt\n",
    "%matplotlib inline  \n",
    "plt.rcParams['figure.figsize'] = (10, 6)\n",
    "\n",
    "# NOTE: SVM Models take 20+ minutes to complete running. Leave this switch to false to view previous results:\n",
    "rerun = False"
   ]
  },
  {
   "cell_type": "code",
   "execution_count": 2,
   "metadata": {},
   "outputs": [
    {
     "data": {
      "text/html": [
       "<div>\n",
       "<style scoped>\n",
       "    .dataframe tbody tr th:only-of-type {\n",
       "        vertical-align: middle;\n",
       "    }\n",
       "\n",
       "    .dataframe tbody tr th {\n",
       "        vertical-align: top;\n",
       "    }\n",
       "\n",
       "    .dataframe thead th {\n",
       "        text-align: right;\n",
       "    }\n",
       "</style>\n",
       "<table border=\"1\" class=\"dataframe\">\n",
       "  <thead>\n",
       "    <tr style=\"text-align: right;\">\n",
       "      <th></th>\n",
       "      <th>Season</th>\n",
       "      <th>Age</th>\n",
       "      <th>Tm</th>\n",
       "      <th>Lg</th>\n",
       "      <th>Pos</th>\n",
       "      <th>G</th>\n",
       "      <th>GS</th>\n",
       "      <th>MP</th>\n",
       "      <th>FG</th>\n",
       "      <th>FGA</th>\n",
       "      <th>...</th>\n",
       "      <th>AST</th>\n",
       "      <th>STL</th>\n",
       "      <th>BLK</th>\n",
       "      <th>TOV</th>\n",
       "      <th>PF</th>\n",
       "      <th>PTS</th>\n",
       "      <th>Name</th>\n",
       "      <th>All Star</th>\n",
       "      <th>MVP</th>\n",
       "      <th>All NBA</th>\n",
       "    </tr>\n",
       "  </thead>\n",
       "  <tbody>\n",
       "    <tr>\n",
       "      <th>0</th>\n",
       "      <td>1992-93</td>\n",
       "      <td>24.0</td>\n",
       "      <td>TOT</td>\n",
       "      <td>NBA</td>\n",
       "      <td>PF</td>\n",
       "      <td>75.0</td>\n",
       "      <td>52.0</td>\n",
       "      <td>17.5</td>\n",
       "      <td>3.3</td>\n",
       "      <td>6.3</td>\n",
       "      <td>...</td>\n",
       "      <td>0.4</td>\n",
       "      <td>0.3</td>\n",
       "      <td>0.3</td>\n",
       "      <td>1.3</td>\n",
       "      <td>2.5</td>\n",
       "      <td>7.7</td>\n",
       "      <td>Alaa Abdelnaby</td>\n",
       "      <td>0.0</td>\n",
       "      <td>0</td>\n",
       "      <td>0</td>\n",
       "    </tr>\n",
       "    <tr>\n",
       "      <th>1</th>\n",
       "      <td>1994-95</td>\n",
       "      <td>26.0</td>\n",
       "      <td>TOT</td>\n",
       "      <td>NBA</td>\n",
       "      <td>PF</td>\n",
       "      <td>54.0</td>\n",
       "      <td>0.0</td>\n",
       "      <td>9.4</td>\n",
       "      <td>2.2</td>\n",
       "      <td>4.3</td>\n",
       "      <td>...</td>\n",
       "      <td>0.2</td>\n",
       "      <td>0.3</td>\n",
       "      <td>0.2</td>\n",
       "      <td>0.8</td>\n",
       "      <td>1.9</td>\n",
       "      <td>4.7</td>\n",
       "      <td>Alaa Abdelnaby</td>\n",
       "      <td>0.0</td>\n",
       "      <td>0</td>\n",
       "      <td>0</td>\n",
       "    </tr>\n",
       "    <tr>\n",
       "      <th>2</th>\n",
       "      <td>1981-82</td>\n",
       "      <td>34.0</td>\n",
       "      <td>LAL</td>\n",
       "      <td>NBA</td>\n",
       "      <td>C</td>\n",
       "      <td>76.0</td>\n",
       "      <td>76.0</td>\n",
       "      <td>35.2</td>\n",
       "      <td>9.9</td>\n",
       "      <td>17.1</td>\n",
       "      <td>...</td>\n",
       "      <td>3.0</td>\n",
       "      <td>0.8</td>\n",
       "      <td>2.7</td>\n",
       "      <td>3.0</td>\n",
       "      <td>2.9</td>\n",
       "      <td>23.9</td>\n",
       "      <td>Kareem Abdul-Jabbar</td>\n",
       "      <td>1.0</td>\n",
       "      <td>0</td>\n",
       "      <td>0</td>\n",
       "    </tr>\n",
       "    <tr>\n",
       "      <th>3</th>\n",
       "      <td>1982-83</td>\n",
       "      <td>35.0</td>\n",
       "      <td>LAL</td>\n",
       "      <td>NBA</td>\n",
       "      <td>C</td>\n",
       "      <td>79.0</td>\n",
       "      <td>79.0</td>\n",
       "      <td>32.3</td>\n",
       "      <td>9.1</td>\n",
       "      <td>15.5</td>\n",
       "      <td>...</td>\n",
       "      <td>2.5</td>\n",
       "      <td>0.8</td>\n",
       "      <td>2.2</td>\n",
       "      <td>2.5</td>\n",
       "      <td>2.8</td>\n",
       "      <td>21.8</td>\n",
       "      <td>Kareem Abdul-Jabbar</td>\n",
       "      <td>1.0</td>\n",
       "      <td>0</td>\n",
       "      <td>2</td>\n",
       "    </tr>\n",
       "    <tr>\n",
       "      <th>4</th>\n",
       "      <td>1983-84</td>\n",
       "      <td>36.0</td>\n",
       "      <td>LAL</td>\n",
       "      <td>NBA</td>\n",
       "      <td>C</td>\n",
       "      <td>80.0</td>\n",
       "      <td>80.0</td>\n",
       "      <td>32.8</td>\n",
       "      <td>9.0</td>\n",
       "      <td>15.5</td>\n",
       "      <td>...</td>\n",
       "      <td>2.6</td>\n",
       "      <td>0.7</td>\n",
       "      <td>1.8</td>\n",
       "      <td>2.8</td>\n",
       "      <td>2.6</td>\n",
       "      <td>21.5</td>\n",
       "      <td>Kareem Abdul-Jabbar</td>\n",
       "      <td>1.0</td>\n",
       "      <td>0</td>\n",
       "      <td>1</td>\n",
       "    </tr>\n",
       "    <tr>\n",
       "      <th>5</th>\n",
       "      <td>1984-85</td>\n",
       "      <td>37.0</td>\n",
       "      <td>LAL</td>\n",
       "      <td>NBA</td>\n",
       "      <td>C</td>\n",
       "      <td>79.0</td>\n",
       "      <td>79.0</td>\n",
       "      <td>33.3</td>\n",
       "      <td>9.2</td>\n",
       "      <td>15.3</td>\n",
       "      <td>...</td>\n",
       "      <td>3.2</td>\n",
       "      <td>0.8</td>\n",
       "      <td>2.1</td>\n",
       "      <td>2.5</td>\n",
       "      <td>3.0</td>\n",
       "      <td>22.0</td>\n",
       "      <td>Kareem Abdul-Jabbar</td>\n",
       "      <td>1.0</td>\n",
       "      <td>0</td>\n",
       "      <td>2</td>\n",
       "    </tr>\n",
       "    <tr>\n",
       "      <th>6</th>\n",
       "      <td>1985-86</td>\n",
       "      <td>38.0</td>\n",
       "      <td>LAL</td>\n",
       "      <td>NBA</td>\n",
       "      <td>C</td>\n",
       "      <td>79.0</td>\n",
       "      <td>79.0</td>\n",
       "      <td>33.3</td>\n",
       "      <td>9.6</td>\n",
       "      <td>16.9</td>\n",
       "      <td>...</td>\n",
       "      <td>3.5</td>\n",
       "      <td>0.8</td>\n",
       "      <td>1.6</td>\n",
       "      <td>2.6</td>\n",
       "      <td>3.1</td>\n",
       "      <td>23.4</td>\n",
       "      <td>Kareem Abdul-Jabbar</td>\n",
       "      <td>1.0</td>\n",
       "      <td>0</td>\n",
       "      <td>1</td>\n",
       "    </tr>\n",
       "    <tr>\n",
       "      <th>7</th>\n",
       "      <td>1986-87</td>\n",
       "      <td>39.0</td>\n",
       "      <td>LAL</td>\n",
       "      <td>NBA</td>\n",
       "      <td>C</td>\n",
       "      <td>78.0</td>\n",
       "      <td>78.0</td>\n",
       "      <td>31.3</td>\n",
       "      <td>7.2</td>\n",
       "      <td>12.7</td>\n",
       "      <td>...</td>\n",
       "      <td>2.6</td>\n",
       "      <td>0.6</td>\n",
       "      <td>1.2</td>\n",
       "      <td>2.4</td>\n",
       "      <td>3.1</td>\n",
       "      <td>17.5</td>\n",
       "      <td>Kareem Abdul-Jabbar</td>\n",
       "      <td>1.0</td>\n",
       "      <td>0</td>\n",
       "      <td>0</td>\n",
       "    </tr>\n",
       "    <tr>\n",
       "      <th>8</th>\n",
       "      <td>1987-88</td>\n",
       "      <td>40.0</td>\n",
       "      <td>LAL</td>\n",
       "      <td>NBA</td>\n",
       "      <td>C</td>\n",
       "      <td>80.0</td>\n",
       "      <td>80.0</td>\n",
       "      <td>28.9</td>\n",
       "      <td>6.0</td>\n",
       "      <td>11.3</td>\n",
       "      <td>...</td>\n",
       "      <td>1.7</td>\n",
       "      <td>0.6</td>\n",
       "      <td>1.2</td>\n",
       "      <td>2.0</td>\n",
       "      <td>2.7</td>\n",
       "      <td>14.6</td>\n",
       "      <td>Kareem Abdul-Jabbar</td>\n",
       "      <td>1.0</td>\n",
       "      <td>0</td>\n",
       "      <td>0</td>\n",
       "    </tr>\n",
       "    <tr>\n",
       "      <th>9</th>\n",
       "      <td>1988-89</td>\n",
       "      <td>41.0</td>\n",
       "      <td>LAL</td>\n",
       "      <td>NBA</td>\n",
       "      <td>C</td>\n",
       "      <td>74.0</td>\n",
       "      <td>74.0</td>\n",
       "      <td>22.9</td>\n",
       "      <td>4.2</td>\n",
       "      <td>8.9</td>\n",
       "      <td>...</td>\n",
       "      <td>1.0</td>\n",
       "      <td>0.5</td>\n",
       "      <td>1.1</td>\n",
       "      <td>1.3</td>\n",
       "      <td>2.6</td>\n",
       "      <td>10.1</td>\n",
       "      <td>Kareem Abdul-Jabbar</td>\n",
       "      <td>1.0</td>\n",
       "      <td>0</td>\n",
       "      <td>0</td>\n",
       "    </tr>\n",
       "    <tr>\n",
       "      <th>10</th>\n",
       "      <td>1990-91</td>\n",
       "      <td>21.0</td>\n",
       "      <td>DEN</td>\n",
       "      <td>NBA</td>\n",
       "      <td>PG</td>\n",
       "      <td>67.0</td>\n",
       "      <td>19.0</td>\n",
       "      <td>22.5</td>\n",
       "      <td>6.2</td>\n",
       "      <td>15.1</td>\n",
       "      <td>...</td>\n",
       "      <td>3.1</td>\n",
       "      <td>0.8</td>\n",
       "      <td>0.1</td>\n",
       "      <td>1.6</td>\n",
       "      <td>2.2</td>\n",
       "      <td>14.1</td>\n",
       "      <td>Mahmoud Abdul-Rauf</td>\n",
       "      <td>0.0</td>\n",
       "      <td>0</td>\n",
       "      <td>0</td>\n",
       "    </tr>\n",
       "    <tr>\n",
       "      <th>11</th>\n",
       "      <td>1991-92</td>\n",
       "      <td>22.0</td>\n",
       "      <td>DEN</td>\n",
       "      <td>NBA</td>\n",
       "      <td>PG</td>\n",
       "      <td>81.0</td>\n",
       "      <td>11.0</td>\n",
       "      <td>19.0</td>\n",
       "      <td>4.4</td>\n",
       "      <td>10.4</td>\n",
       "      <td>...</td>\n",
       "      <td>2.4</td>\n",
       "      <td>0.5</td>\n",
       "      <td>0.0</td>\n",
       "      <td>1.4</td>\n",
       "      <td>1.6</td>\n",
       "      <td>10.3</td>\n",
       "      <td>Mahmoud Abdul-Rauf</td>\n",
       "      <td>0.0</td>\n",
       "      <td>0</td>\n",
       "      <td>0</td>\n",
       "    </tr>\n",
       "    <tr>\n",
       "      <th>12</th>\n",
       "      <td>1992-93</td>\n",
       "      <td>23.0</td>\n",
       "      <td>DEN</td>\n",
       "      <td>NBA</td>\n",
       "      <td>PG</td>\n",
       "      <td>81.0</td>\n",
       "      <td>81.0</td>\n",
       "      <td>33.5</td>\n",
       "      <td>7.8</td>\n",
       "      <td>17.4</td>\n",
       "      <td>...</td>\n",
       "      <td>4.2</td>\n",
       "      <td>1.0</td>\n",
       "      <td>0.1</td>\n",
       "      <td>2.3</td>\n",
       "      <td>2.2</td>\n",
       "      <td>19.2</td>\n",
       "      <td>Mahmoud Abdul-Rauf</td>\n",
       "      <td>0.0</td>\n",
       "      <td>0</td>\n",
       "      <td>0</td>\n",
       "    </tr>\n",
       "    <tr>\n",
       "      <th>13</th>\n",
       "      <td>1993-94</td>\n",
       "      <td>24.0</td>\n",
       "      <td>DEN</td>\n",
       "      <td>NBA</td>\n",
       "      <td>PG</td>\n",
       "      <td>80.0</td>\n",
       "      <td>78.0</td>\n",
       "      <td>32.7</td>\n",
       "      <td>7.4</td>\n",
       "      <td>16.0</td>\n",
       "      <td>...</td>\n",
       "      <td>4.5</td>\n",
       "      <td>1.0</td>\n",
       "      <td>0.1</td>\n",
       "      <td>1.9</td>\n",
       "      <td>1.9</td>\n",
       "      <td>18.0</td>\n",
       "      <td>Mahmoud Abdul-Rauf</td>\n",
       "      <td>0.0</td>\n",
       "      <td>0</td>\n",
       "      <td>0</td>\n",
       "    </tr>\n",
       "    <tr>\n",
       "      <th>14</th>\n",
       "      <td>1994-95</td>\n",
       "      <td>25.0</td>\n",
       "      <td>DEN</td>\n",
       "      <td>NBA</td>\n",
       "      <td>PG</td>\n",
       "      <td>73.0</td>\n",
       "      <td>43.0</td>\n",
       "      <td>28.5</td>\n",
       "      <td>6.5</td>\n",
       "      <td>13.8</td>\n",
       "      <td>...</td>\n",
       "      <td>3.6</td>\n",
       "      <td>1.1</td>\n",
       "      <td>0.1</td>\n",
       "      <td>1.6</td>\n",
       "      <td>1.7</td>\n",
       "      <td>16.0</td>\n",
       "      <td>Mahmoud Abdul-Rauf</td>\n",
       "      <td>0.0</td>\n",
       "      <td>0</td>\n",
       "      <td>0</td>\n",
       "    </tr>\n",
       "  </tbody>\n",
       "</table>\n",
       "<p>15 rows × 34 columns</p>\n",
       "</div>"
      ],
      "text/plain": [
       "     Season   Age   Tm   Lg Pos     G    GS    MP   FG   FGA  ...  AST  STL  \\\n",
       "0   1992-93  24.0  TOT  NBA  PF  75.0  52.0  17.5  3.3   6.3  ...  0.4  0.3   \n",
       "1   1994-95  26.0  TOT  NBA  PF  54.0   0.0   9.4  2.2   4.3  ...  0.2  0.3   \n",
       "2   1981-82  34.0  LAL  NBA   C  76.0  76.0  35.2  9.9  17.1  ...  3.0  0.8   \n",
       "3   1982-83  35.0  LAL  NBA   C  79.0  79.0  32.3  9.1  15.5  ...  2.5  0.8   \n",
       "4   1983-84  36.0  LAL  NBA   C  80.0  80.0  32.8  9.0  15.5  ...  2.6  0.7   \n",
       "5   1984-85  37.0  LAL  NBA   C  79.0  79.0  33.3  9.2  15.3  ...  3.2  0.8   \n",
       "6   1985-86  38.0  LAL  NBA   C  79.0  79.0  33.3  9.6  16.9  ...  3.5  0.8   \n",
       "7   1986-87  39.0  LAL  NBA   C  78.0  78.0  31.3  7.2  12.7  ...  2.6  0.6   \n",
       "8   1987-88  40.0  LAL  NBA   C  80.0  80.0  28.9  6.0  11.3  ...  1.7  0.6   \n",
       "9   1988-89  41.0  LAL  NBA   C  74.0  74.0  22.9  4.2   8.9  ...  1.0  0.5   \n",
       "10  1990-91  21.0  DEN  NBA  PG  67.0  19.0  22.5  6.2  15.1  ...  3.1  0.8   \n",
       "11  1991-92  22.0  DEN  NBA  PG  81.0  11.0  19.0  4.4  10.4  ...  2.4  0.5   \n",
       "12  1992-93  23.0  DEN  NBA  PG  81.0  81.0  33.5  7.8  17.4  ...  4.2  1.0   \n",
       "13  1993-94  24.0  DEN  NBA  PG  80.0  78.0  32.7  7.4  16.0  ...  4.5  1.0   \n",
       "14  1994-95  25.0  DEN  NBA  PG  73.0  43.0  28.5  6.5  13.8  ...  3.6  1.1   \n",
       "\n",
       "    BLK  TOV   PF   PTS                 Name  All Star  MVP  All NBA  \n",
       "0   0.3  1.3  2.5   7.7       Alaa Abdelnaby       0.0    0        0  \n",
       "1   0.2  0.8  1.9   4.7       Alaa Abdelnaby       0.0    0        0  \n",
       "2   2.7  3.0  2.9  23.9  Kareem Abdul-Jabbar       1.0    0        0  \n",
       "3   2.2  2.5  2.8  21.8  Kareem Abdul-Jabbar       1.0    0        2  \n",
       "4   1.8  2.8  2.6  21.5  Kareem Abdul-Jabbar       1.0    0        1  \n",
       "5   2.1  2.5  3.0  22.0  Kareem Abdul-Jabbar       1.0    0        2  \n",
       "6   1.6  2.6  3.1  23.4  Kareem Abdul-Jabbar       1.0    0        1  \n",
       "7   1.2  2.4  3.1  17.5  Kareem Abdul-Jabbar       1.0    0        0  \n",
       "8   1.2  2.0  2.7  14.6  Kareem Abdul-Jabbar       1.0    0        0  \n",
       "9   1.1  1.3  2.6  10.1  Kareem Abdul-Jabbar       1.0    0        0  \n",
       "10  0.1  1.6  2.2  14.1   Mahmoud Abdul-Rauf       0.0    0        0  \n",
       "11  0.0  1.4  1.6  10.3   Mahmoud Abdul-Rauf       0.0    0        0  \n",
       "12  0.1  2.3  2.2  19.2   Mahmoud Abdul-Rauf       0.0    0        0  \n",
       "13  0.1  1.9  1.9  18.0   Mahmoud Abdul-Rauf       0.0    0        0  \n",
       "14  0.1  1.6  1.7  16.0   Mahmoud Abdul-Rauf       0.0    0        0  \n",
       "\n",
       "[15 rows x 34 columns]"
      ]
     },
     "execution_count": 2,
     "metadata": {},
     "output_type": "execute_result"
    }
   ],
   "source": [
    "df_all = pd.read_csv('Data/Player-stats/Cleaned-dataframe')\n",
    "\n",
    "# drop the unnamed column\n",
    "df_all = df_all.drop(df_all.columns[0], 1)\n",
    "df_all.head(15)"
   ]
  },
  {
   "cell_type": "code",
   "execution_count": 3,
   "metadata": {},
   "outputs": [],
   "source": [
    "# A function that develops, optimizes, and tests an SVM model\n",
    "\n",
    "def dev_test_svm(X, y, svm_name, max_c=150, test_size=0.4):\n",
    "    # Cross-val function to find the best c-value.\n",
    "    Cs = range(1, max_c, 1)\n",
    "    acc_list = np.zeros(len(Cs))\n",
    "\n",
    "    for ii, val in enumerate(Cs):\n",
    "        svm_optimize = svm.SVC(kernel='rbf', C=val)\n",
    "        scores = cross_val_score(estimator=svm_optimize, X=X, y=y, cv=5, scoring='accuracy')\n",
    "        acc_list[ii] = scores.mean()\n",
    "\n",
    "    plt.plot(Cs, acc_list)\n",
    "    plt.xlabel('C-value')\n",
    "    plt.ylabel('Accuracy')\n",
    "    plt.show()\n",
    "\n",
    "    # Identify maximum C value\n",
    "    np.max(acc_list)\n",
    "    max_C_index = np.where(acc_list == np.max(acc_list))[0][0]\n",
    "    max_C = Cs[max_C_index]\n",
    "    print('Best C Value: ', max_C)\n",
    "    \n",
    "    # Create an SVM model using the ideal C value\n",
    "\n",
    "    # Split data into test and training values\n",
    "    X_train, X_test, y_train, y_test = train_test_split(X, y, random_state=1, test_size=test_size)\n",
    "\n",
    "    # Train an SVM model\n",
    "    if svm_name == 'all':\n",
    "        svm_all = svm.SVC(kernel='rbf', C=max_C)\n",
    "    elif svm_name == 'playoffs':\n",
    "        svm_playoff = svm.SVC(kernel='rbf', C=max_C)\n",
    "    else:\n",
    "        svm_conf_semi = svm.SVC(kernel='rbf', C=max_C)\n",
    "        \n",
    "    \n",
    "    # Train Model\n",
    "    if svm_name == 'all':\n",
    "        svm_all.fit(X_train, y_train)\n",
    "    elif svm_name == 'playoffs':\n",
    "        svm_playoff.fit(X_train, y_train)\n",
    "    else:\n",
    "        svm_conf_semi.fit(X_train, y_train)\n",
    "        \n",
    "    # Test Model\n",
    "    if svm_name == 'all':\n",
    "        print('svm_all')\n",
    "        pred = svm_all.predict(X_test)\n",
    "    elif svm_name == 'playoffs':\n",
    "        print('playoffs')\n",
    "        pred = svm_playoff.predict(X_test)\n",
    "    else:\n",
    "        print('conference semi')\n",
    "        pred = svm_conf_semi.predict(X_test)\n",
    "        \n",
    "    print('Confusion Matrix:\\n', metrics.confusion_matrix(y_true = y_test, y_pred = pred))\n",
    "    print('Accuracy = ', metrics.accuracy_score(y_true = y_test, y_pred = pred))\n",
    "    return svm_all"
   ]
  },
  {
   "cell_type": "code",
   "execution_count": null,
   "metadata": {},
   "outputs": [],
   "source": [
    "# Develop a classification model for players awards\n",
    "# First, create a true column that represents all endd of season awards (all-star is lowest and MVP is highest in heirarchy)\n",
    "df_all['True'] = 0\n",
    "df_all['True']\n",
    "df_all.loc[(df_all['All Star'] == 1), 'True'] = 1\n",
    "df_all.loc[(df_all['All NBA'] == 3), 'True'] = 2\n",
    "df_all.loc[(df_all['All NBA'] == 2), 'True'] = 3\n",
    "df_all.loc[(df_all['All NBA'] == 1), 'True'] = 4\n",
    "df_all.loc[(df_all['MVP'] == 1), 'True'] = 5\n",
    "\n",
    "# Exclude Donovan Mitchell's career\n",
    "df_spida = df_all.loc[df_all['Name'] == 'Donovan Mitchell', :]\n",
    "spida_index = df_all.loc[df_all['Name'] == 'Donovan Mitchell'].index\n",
    "df_svm = df_all.drop(spida_index[0])\n",
    "\n",
    "# Move stat data to an array\n",
    "X_all = df_svm.loc[:, 'MP':'PTS'].values # NOTE: Don't include games played or games started to account for variations in season lengths\n",
    "y_true = df_svm['True']\n",
    "\n",
    "print(X_all, y_true)\n",
    "# df_svm.loc[df_svm['True'] == 2].head(30)"
   ]
  },
  {
   "cell_type": "code",
   "execution_count": 21,
   "metadata": {},
   "outputs": [
    {
     "data": {
      "image/png": "[encoded data removed]",
      "text/plain": [
       "<Figure size 720x432 with 1 Axes>"
      ]
     },
     "metadata": {
      "needs_background": "light"
     },
     "output_type": "display_data"
    },
    {
     "name": "stdout",
     "output_type": "stream",
     "text": [
      "Best C Value:  7\n",
      "svm_all\n",
      "Confusion Matrix:\n",
      " [[5296    5    0    6    0    0]\n",
      " [ 149    7    0   13    6    0]\n",
      " [  49    1    0   11    2    0]\n",
      " [  39    4    0   18    8    0]\n",
      " [  19    4    0   16   22    0]\n",
      " [   4    0    0    3   11    0]]\n",
      "Accuracy =  0.9385209906903215\n"
     ]
    }
   ],
   "source": [
    "# Evaluate SVM\n",
    "if rerun:\n",
    "    svm_all = dev_test_svm(X_all, y_true, 'all')"
   ]
  },
  {
   "cell_type": "code",
   "execution_count": 22,
   "metadata": {},
   "outputs": [
    {
     "name": "stdout",
     "output_type": "stream",
     "text": [
      "[0.997927265875259, 0.04, 0.0, 0.2608695652173913, 0.36065573770491804, 0.0]\n"
     ]
    },
    {
     "data": {
      "image/png": "[encoded data removed]",
      "text/plain": [
       "<Figure size 720x432 with 1 Axes>"
      ]
     },
     "metadata": {
      "needs_background": "light"
     },
     "output_type": "display_data"
    }
   ],
   "source": [
    "# Plot the results of the confusion matrix\n",
    "plot_data= {'Not All Star': 5296/(5296+5+6), 'All Star': 7/(149+7+13+6), '3rd Team All NBA': 0/(49+1+11+2), '2nd Team All NBA':18/(39+4+18+8),\n",
    "            '1st Team All NBA': 22/(19+4+16+22), 'MVP':0/(4+3+11)}\n",
    "names = list(plot_data.keys())\n",
    "values = list(plot_data.values())\n",
    "print(values)\n",
    "fig, ax = plt.subplots ()\n",
    "ax.scatter(names, values)\n",
    "for i, txt in enumerate(values):\n",
    "    ax.annotate(float(\"{:.4f}\".format(txt)), (names[i], values[i]))\n",
    "plt.ylabel('Accuracy')\n",
    "plt.xlabel('NBA Award')\n",
    "plt.title('Accuracy of SVM model vs NBA Award')\n",
    "plt.show()"
   ]
  },
  {
   "cell_type": "markdown",
   "metadata": {},
   "source": [
    "**Comments:**\n",
    "The above plot shows the SVM model, while exhibiting an overall accuracy of 94%, really works best on predicting which players won't be all stars. This may be explained the disparity in data for players receiving NBA awards. For example, about 400 players play in the NBA each season, but only one player receives the MVP award. So, while the dataset contains stats for thousands of players, it only contains data for 35 or so MVPs. \n",
    "<br>\n",
    "\n",
    "Another line of reasoning suggests that the final awards are more of a popularity contest or politcaly motivated than based on pure statsitical performance. Many players would agree with this obseervation. "
   ]
  },
  {
   "cell_type": "code",
   "execution_count": 8,
   "metadata": {},
   "outputs": [
    {
     "name": "stdout",
     "output_type": "stream",
     "text": [
      "2017-2018 Prediction:  0 Actual:   0\n",
      "\n",
      "2018-2019 Prediction:  0 Actual:   0\n",
      "\n",
      "2019-2020 Prediction:  0 Actual:   1\n",
      "\n",
      "2020-2021 Prediction:  0 Actual:   1\n",
      "\n"
     ]
    }
   ],
   "source": [
    "# Evaluate SVM all on Donovan Mitchell\n",
    "spida_18 = df_spida.loc[df_spida['Season'] == '2017-18', 'MP':'PTS'].values\n",
    "spida_true_18 = df_spida.loc[df_spida['Season'] == '2017-18', 'True']\n",
    "spida_19 = df_spida.loc[df_spida['Season'] == '2018-19', 'MP':'PTS'].values\n",
    "spida_true_19 = df_spida.loc[df_spida['Season'] == '2018-19', 'True']\n",
    "spida_20 = df_spida.loc[df_spida['Season'] == '2019-20', 'MP':'PTS'].values\n",
    "spida_true_20 = df_spida.loc[df_spida['Season'] == '2019-20', 'True']\n",
    "spida_21 = df_spida.loc[df_spida['Season'] == '2020-21', 'MP':'PTS'].values\n",
    "spida_true_21 = df_spida.loc[df_spida['Season'] == '2020-21', 'True']\n",
    "print('2017-2018 Prediction: ', svm_all.predict(spida_18)[0], 'Actual: ', str(spida_true_18).split('   ')[1].split('N')[0])\n",
    "print('2018-2019 Prediction: ', svm_all.predict(spida_19)[0], 'Actual: ', str(spida_true_19).split('   ')[1].split('N')[0])\n",
    "print('2019-2020 Prediction: ', svm_all.predict(spida_20)[0], 'Actual: ', str(spida_true_20).split('   ')[1].split('N')[0])\n",
    "print('2020-2021 Prediction: ', svm_all.predict(spida_21)[0], 'Actual: ', str(spida_true_21).split('   ')[1].split('N')[0])"
   ]
  },
  {
   "cell_type": "markdown",
   "metadata": {},
   "source": [
    "**Comments** The above SVM predicts a player's performance based on post-season awards in a heirarchical order: not an all star, all star, 3rd Team All NBA, 2nd Team All NBA, 1st Team All NBA, MVP. \n",
    "<br>\n",
    "The model predicted that Donovan Mitchell wouldn't be an all star (or better) during any of his four seasons (which is incorrect for his previous two seasons). "
   ]
  },
  {
   "cell_type": "code",
   "execution_count": 9,
   "metadata": {},
   "outputs": [
    {
     "data": {
      "image/png": "[encoded data removed]",
      "text/plain": [
       "<Figure size 720x432 with 1 Axes>"
      ]
     },
     "metadata": {
      "needs_background": "light"
     },
     "output_type": "display_data"
    },
    {
     "name": "stdout",
     "output_type": "stream",
     "text": [
      "Best C Value:  6\n",
      "svm_all\n",
      "Confusion Matrix:\n",
      " [[4617   43]\n",
      " [ 159  163]]\n",
      "Accuracy =  0.9594540345242875\n"
     ]
    }
   ],
   "source": [
    "# Try training an SVM to classify all-stars\n",
    "X_all_star = df_all.loc[:, 'MP':'PTS'].values\n",
    "y_all_star = df_all['All Star']\n",
    "\n",
    "if rerun:\n",
    "    svm_all_star = dev_test_svm(X_all_star, y_all_star, 'all', max_c=300, test_size=0.35)"
   ]
  },
  {
   "cell_type": "code",
   "execution_count": 10,
   "metadata": {},
   "outputs": [
    {
     "name": "stdout",
     "output_type": "stream",
     "text": [
      "[0.5590062111801242, 0.9901287553648068]\n"
     ]
    },
    {
     "data": {
      "image/png": "[encoded data removed]",
      "text/plain": [
       "<Figure size 720x432 with 1 Axes>"
      ]
     },
     "metadata": {
      "needs_background": "light"
     },
     "output_type": "display_data"
    }
   ],
   "source": [
    "# Plot the results of the all-star SVM\n",
    "plot_data= {'All Star': 180/(142 + 180), 'Not All Star': 4614/(4614+46)}\n",
    "names = list(plot_data.keys())\n",
    "values = list(plot_data.values())\n",
    "print(values)\n",
    "fig, ax = plt.subplots ()\n",
    "ax.scatter(names, values)\n",
    "for i, txt in enumerate(values):\n",
    "    ax.annotate(float(\"{:.4f}\".format(txt)), (names[i], values[i]))\n",
    "plt.ylabel('Accuracy')\n",
    "plt.xlabel('NBA Award')\n",
    "plt.title('Accuracy of All-Star-SVM model')\n",
    "plt.show()"
   ]
  },
  {
   "cell_type": "markdown",
   "metadata": {},
   "source": [
    "**Comments:**\n",
    "This model has a narrower scope: classifying all stars. It exhibits a very high accuracy for non all stars and a mediocre accuracy for all stars.\n",
    "\n",
    "<br>\n",
    "Possible explanations for this behavior are the same as stated for the above SVM (svm_all)"
   ]
  },
  {
   "cell_type": "code",
   "execution_count": 12,
   "metadata": {},
   "outputs": [
    {
     "name": "stdout",
     "output_type": "stream",
     "text": [
      "2017-2018 Prediction:  0.0 Actual:   0\n",
      "\n",
      "2018-2019 Prediction:  0.0 Actual:   0\n",
      "\n",
      "2019-2020 Prediction:  1.0 Actual:   1\n",
      "\n",
      "2020-2021 Prediction:  1.0 Actual:   1\n",
      "\n"
     ]
    }
   ],
   "source": [
    "# Evaluate Don's career using the all-star svm\n",
    "print('2017-2018 Prediction: ', svm_all_star.predict(spida_18)[0], 'Actual: ', str(spida_true_18).split('   ')[1].split('N')[0])\n",
    "print('2018-2019 Prediction: ', svm_all_star.predict(spida_19)[0], 'Actual: ', str(spida_true_19).split('   ')[1].split('N')[0])\n",
    "print('2019-2020 Prediction: ', svm_all_star.predict(spida_20)[0], 'Actual: ', str(spida_true_20).split('   ')[1].split('N')[0])\n",
    "print('2020-2021 Prediction: ', svm_all_star.predict(spida_21)[0], 'Actual: ', str(spida_true_21).split('   ')[1].split('N')[0])"
   ]
  },
  {
   "cell_type": "markdown",
   "metadata": {},
   "source": [
    "**Comments:**\n",
    "The model correctly predicted Donovan Mitchell's career all star apperances!"
   ]
  },
  {
   "cell_type": "code",
   "execution_count": 15,
   "metadata": {},
   "outputs": [
    {
     "data": {
      "image/png": "[encoded data removed]",
      "text/plain": [
       "<Figure size 720x432 with 1 Axes>"
      ]
     },
     "metadata": {
      "needs_background": "light"
     },
     "output_type": "display_data"
    },
    {
     "name": "stdout",
     "output_type": "stream",
     "text": [
      "Best C Value:  9\n",
      "svm_all\n",
      "Confusion Matrix:\n",
      " [[4770    6    8    0]\n",
      " [  31   37    4    0]\n",
      " [  51    9   10    0]\n",
      " [  49    6    1    0]]\n",
      "Accuracy =  0.9668807707747893\n"
     ]
    }
   ],
   "source": [
    "# Create an SVM model to predict all NBA award finalists\n",
    "# Try training an SVM to classify all-stars\n",
    "X_all_nba = df_all.loc[:, 'MP':'PTS'].values\n",
    "y_all_nba = df_all['All NBA']\n",
    "\n",
    "if rerun:\n",
    "    svm_all_nba = dev_test_svm(X_all_nba, y_all_nba, 'all', max_c=300, test_size=0.35)"
   ]
  },
  {
   "cell_type": "code",
   "execution_count": 17,
   "metadata": {},
   "outputs": [
    {
     "name": "stdout",
     "output_type": "stream",
     "text": [
      "[0.9970735785953178, 0.5138888888888888, 0.14285714285714285, 0.0]\n"
     ]
    },
    {
     "data": {
      "image/png": "[encoded data removed]",
      "text/plain": [
       "<Figure size 720x432 with 1 Axes>"
      ]
     },
     "metadata": {
      "needs_background": "light"
     },
     "output_type": "display_data"
    }
   ],
   "source": [
    "# Plot the results of the all-NBA SVM\n",
    "plot_data= {'Did not qualify': 4770/(4770+6+8) , 'Third Team': 37/(31+37+4) , 'Second Team': 10/(51+9+10), 'First Team': 0/(49+6+1) }\n",
    "names = list(plot_data.keys())\n",
    "values = list(plot_data.values())\n",
    "print(values)\n",
    "fig, ax = plt.subplots ()\n",
    "ax.scatter(names, values)\n",
    "for i, txt in enumerate(values):\n",
    "    ax.annotate(float(\"{:.4f}\".format(txt)), (names[i], values[i]))\n",
    "plt.ylabel('Accuracy')\n",
    "plt.xlabel('All NBA Team')\n",
    "plt.title('Accuracy of All-NBA-SVM model')\n",
    "plt.show()"
   ]
  },
  {
   "cell_type": "markdown",
   "metadata": {},
   "source": [
    "**Comments:**\n",
    "This model follows in the same pattern as all previous models: it is much easier to predict players that do not receive awards than it is to predict award winners."
   ]
  },
  {
   "cell_type": "code",
   "execution_count": 20,
   "metadata": {},
   "outputs": [
    {
     "name": "stdout",
     "output_type": "stream",
     "text": [
      "2017-2018 Prediction:  0 Actual:  0\n",
      "2018-2019 Prediction:  0 Actual:  0\n",
      "2019-2020 Prediction:  0 Actual:  0\n",
      "2020-2021 Prediction:  0 Actual:  TBD\n"
     ]
    }
   ],
   "source": [
    "# Evaluate Don's career using the all NBA svm\n",
    "print('2017-2018 Prediction: ', svm_all_nba.predict(spida_18)[0], 'Actual: ', 0)\n",
    "print('2018-2019 Prediction: ', svm_all_nba.predict(spida_19)[0], 'Actual: ', 0)\n",
    "print('2019-2020 Prediction: ', svm_all_nba.predict(spida_20)[0], 'Actual: ', 0)\n",
    "print('2020-2021 Prediction: ', svm_all_nba.predict(spida_21)[0], 'Actual: ', 'TBD')"
   ]
  },
  {
   "cell_type": "markdown",
   "metadata": {},
   "source": [
    "**Comments:** This model predicts that Donnovan will not be named to any of the All-NBA teams this year. Only time will tell if this prediction is accurate."
   ]
  },
  {
   "cell_type": "code",
   "execution_count": null,
   "metadata": {},
   "outputs": [],
   "source": []
  }
 ],
 "metadata": {
  "kernelspec": {
   "display_name": "Python 3",
   "language": "python",
   "name": "python3"
  },
  "language_info": {
   "codemirror_mode": {
    "name": "ipython",
    "version": 3
   },
   "file_extension": ".py",
   "mimetype": "text/x-python",
   "name": "python",
   "nbconvert_exporter": "python",
   "pygments_lexer": "ipython3",
   "version": "3.8.5"
  }
 },
 "nbformat": 4,
 "nbformat_minor": 4
}
